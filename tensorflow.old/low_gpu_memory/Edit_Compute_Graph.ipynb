{
 "cells": [
  {
   "cell_type": "markdown",
   "metadata": {},
   "source": [
    "# Experiment of editing the graph."
   ]
  },
  {
   "cell_type": "code",
   "execution_count": 1,
   "metadata": {},
   "outputs": [
    {
     "name": "stderr",
     "output_type": "stream",
     "text": [
      "/home/holmescn/.pyenv/versions/anaconda3-5.2.0/envs/tensorflow-gpu/lib/python3.6/site-packages/h5py/__init__.py:36: FutureWarning: Conversion of the second argument of issubdtype from `float` to `np.floating` is deprecated. In future, it will be treated as `np.float64 == np.dtype(float).type`.\n",
      "  from ._conv import register_converters as _register_converters\n"
     ]
    }
   ],
   "source": [
    "import os\n",
    "import tensorflow as tf\n",
    "import tensorflow.contrib.graph_editor as ge"
   ]
  },
  {
   "cell_type": "code",
   "execution_count": 2,
   "metadata": {},
   "outputs": [],
   "source": [
    "# Build basic graph\n",
    "os.system('rm -rf /tmp/graph')\n",
    "\n",
    "g = tf.Graph()\n",
    "\n",
    "with g.as_default():\n",
    "    a = tf.placeholder(tf.float32, shape=(), name='a')\n",
    "    b = tf.placeholder(tf.float32, shape=(), name='b')\n",
    "    c = a + b\n",
    "    d = tf.identity(c)\n",
    "    e = tf.identity(c)\n",
    "\n",
    "c1 = tf.identity(c)\n",
    "\n",
    "ge.connect(c1.op, d.op)\n",
    "ge.connect(c1.op, e.op)\n",
    "\n",
    "tf.summary.FileWriter(\"/tmp/graph\", g).close()"
   ]
  },
  {
   "cell_type": "code",
   "execution_count": 75,
   "metadata": {},
   "outputs": [],
   "source": [
    "# Simple CNN block\n",
    "os.system('rm -rf /tmp/graph')\n",
    "\n",
    "g = tf.Graph()\n",
    "\n",
    "with g.as_default():\n",
    "    inputs = tf.placeholder(dtype=tf.float32, shape=(None, 32, 32, 3), name='inputs')\n",
    "    conv1 = tf.layers.conv2d(inputs, 32, 3, padding='same', activation=tf.nn.relu, name='conv1')\n",
    "    conv2 = tf.layers.conv2d(conv1, 10, 3, padding='same', activation=tf.nn.relu, name='conv2')\n",
    "    pool = tf.layers.average_pooling2d(conv2, 32, 1, name='pool')\n",
    "    flatten = tf.layers.flatten(pool)\n",
    "    logits = tf.layers.dense(flatten, units=10)\n",
    "    \n",
    "    labels = tf.placeholder(dtype=tf.int32, shape=(None, 1))\n",
    "    loss = tf.losses.sparse_softmax_cross_entropy(labels=labels, logits=logits)\n",
    "    \n",
    "    optimizer = tf.train.GradientDescentOptimizer(0.01)\n",
    "    train_op = optimizer.minimize(loss)\n",
    "\n",
    "conv1_1 = tf.identity(conv1)\n",
    "\n",
    "for consumer in conv1.consumers():\n",
    "    for index, tensor in enumerate(consumer.inputs):\n",
    "        if tensor == conv1 and consumer != conv1_1.op:\n",
    "            consumer._update_input(index, conv1_1, False)\n",
    "\n",
    "\n",
    "tf.summary.FileWriter(\"/tmp/graph\", g).close()"
   ]
  },
  {
   "cell_type": "code",
   "execution_count": null,
   "metadata": {},
   "outputs": [],
   "source": []
  }
 ],
 "metadata": {
  "kernelspec": {
   "display_name": "Python 3",
   "language": "python",
   "name": "python3"
  },
  "language_info": {
   "codemirror_mode": {
    "name": "ipython",
    "version": 3
   },
   "file_extension": ".py",
   "mimetype": "text/x-python",
   "name": "python",
   "nbconvert_exporter": "python",
   "pygments_lexer": "ipython3",
   "version": "3.6.5"
  }
 },
 "nbformat": 4,
 "nbformat_minor": 2
}
