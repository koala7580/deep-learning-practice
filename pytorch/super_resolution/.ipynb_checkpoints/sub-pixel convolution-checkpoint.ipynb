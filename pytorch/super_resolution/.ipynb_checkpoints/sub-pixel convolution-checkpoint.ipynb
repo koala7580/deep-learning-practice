{
 "cells": [
  {
   "cell_type": "markdown",
   "metadata": {},
   "source": [
    "# Sub-pixel Convolution\n",
    "\n",
    "Algorithm idea come from [arXiv: 1609.05158](https://arxiv.org/abs/1609.05158)"
   ]
  },
  {
   "cell_type": "code",
   "execution_count": 2,
   "metadata": {},
   "outputs": [],
   "source": [
    "import torch\n",
    "import numpy as np"
   ]
  },
  {
   "cell_type": "markdown",
   "metadata": {},
   "source": [
    "## Implement experiment based on numpy"
   ]
  },
  {
   "cell_type": "code",
   "execution_count": 55,
   "metadata": {},
   "outputs": [],
   "source": [
    "# Create a batch of images, 3x3 with lots of channels\n",
    "x = np.ones((3, 3, 3, 4), np.float32)\n",
    "\n",
    "# make each batch different\n",
    "for b in range(3):\n",
    "    for i in range(4):\n",
    "        x[b, :, :, i] = x[b, :, :, i] + i + b * 10\n",
    "\n",
    "# Sub-pixel transform by reshape and transpose\n",
    "s1 = np.reshape(x, [-1, 3, 3, 2, 2])\n",
    "s2 = np.transpose(s1, [0, 1, 3, 2, 4])\n",
    "s3 = np.reshape(s2, [-1, 6, 6, 1])"
   ]
  },
  {
   "cell_type": "markdown",
   "metadata": {},
   "source": [
    "## Implement by PyTorch"
   ]
  },
  {
   "cell_type": "code",
   "execution_count": 49,
   "metadata": {},
   "outputs": [],
   "source": [
    "# Same idea for NumPy\n",
    "x = torch.ones(3, 3, 3, 4)\n",
    "for b in range(3):\n",
    "    for i in range(4):\n",
    "        x[b, :, :, i]  = x[b, :, :, i] + i + b * 10\n",
    "\n",
    "s1 = torch.reshape(x, [-1, 3, 3, 2, 2])\n",
    "s2 = torch.transpose(s1, 3, 2)\n",
    "s3 = torch.reshape(s2, [-1, 6, 6, 1])"
   ]
  }
 ],
 "metadata": {
  "kernelspec": {
   "display_name": "Python 3",
   "language": "python",
   "name": "python3"
  },
  "language_info": {
   "codemirror_mode": {
    "name": "ipython",
    "version": 3
   },
   "file_extension": ".py",
   "mimetype": "text/x-python",
   "name": "python",
   "nbconvert_exporter": "python",
   "pygments_lexer": "ipython3",
   "version": "3.6.5"
  }
 },
 "nbformat": 4,
 "nbformat_minor": 2
}
